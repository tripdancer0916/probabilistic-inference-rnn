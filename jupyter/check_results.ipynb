{
 "cells": [
  {
   "cell_type": "code",
   "execution_count": 16,
   "metadata": {},
   "outputs": [],
   "source": [
    "import os\n",
    "\n",
    "import matplotlib\n",
    "import numpy as np\n",
    "import sys\n",
    "import yaml\n",
    "\n",
    "sys.path.append('../')\n",
    "import torch\n",
    "\n",
    "import matplotlib.pyplot as plt\n",
    "from mpl_toolkits.mplot3d import Axes3D\n",
    "\n",
    "from sklearn.decomposition import PCA\n",
    "\n",
    "from model import RecurrentNeuralNetwork\n",
    "from posterior_inference_dataset import Posterior\n",
    "\n",
    "%matplotlib inline"
   ]
  },
  {
   "cell_type": "code",
   "execution_count": 17,
   "metadata": {},
   "outputs": [
    {
     "name": "stdout",
     "output_type": "stream",
     "text": [
      "The autoreload extension is already loaded. To reload it, use:\n",
      "  %reload_ext autoreload\n"
     ]
    }
   ],
   "source": [
    "%load_ext autoreload\n",
    "%autoreload 2"
   ]
  },
  {
   "cell_type": "code",
   "execution_count": 18,
   "metadata": {},
   "outputs": [],
   "source": [
    "def make_signal(N, time_length, signal_length, mu, sigma):\n",
    "    input_signals = np.zeros([N, time_length+1, 1])\n",
    "    for i in range(N):\n",
    "        signal = np.random.normal(mu, sigma, signal_length)\n",
    "        input_signals[i, :signal_length, 0] = signal\n",
    "    return input_signals"
   ]
  },
  {
   "cell_type": "code",
   "execution_count": 19,
   "metadata": {},
   "outputs": [],
   "source": [
    "config_path = '../cfg/posterior/8_1.cfg'\n",
    "with open(config_path, 'r') as f:\n",
    "    cfg = yaml.safe_load(f)"
   ]
  },
  {
   "cell_type": "code",
   "execution_count": 20,
   "metadata": {},
   "outputs": [],
   "source": [
    "torch.manual_seed(1)\n",
    "device = torch.device('cpu')"
   ]
  },
  {
   "cell_type": "code",
   "execution_count": 21,
   "metadata": {},
   "outputs": [
    {
     "data": {
      "text/plain": [
       "0.7"
      ]
     },
     "execution_count": 21,
     "metadata": {},
     "output_type": "execute_result"
    }
   ],
   "source": [
    "cfg['MODEL']['SIGMA_PRIOR']"
   ]
  },
  {
   "cell_type": "code",
   "execution_count": 22,
   "metadata": {},
   "outputs": [
    {
     "name": "stdout",
     "output_type": "stream",
     "text": [
      "model_name:  8_1\n"
     ]
    },
    {
     "data": {
      "text/plain": [
       "RecurrentNeuralNetwork(\n",
       "  (w_in): Linear(in_features=1, out_features=512, bias=False)\n",
       "  (w_hh): Linear(in_features=512, out_features=512, bias=True)\n",
       "  (w_out): Linear(in_features=512, out_features=1, bias=False)\n",
       ")"
      ]
     },
     "execution_count": 22,
     "metadata": {},
     "output_type": "execute_result"
    }
   ],
   "source": [
    "cfg['MODEL']['SIGMA_NEU'] = 0\n",
    "model_name = os.path.splitext(os.path.basename(config_path))[0]\n",
    "print('model_name: ', model_name)\n",
    "\n",
    "if 'ALPHA' not in cfg['MODEL'].keys():\n",
    "    cfg['MODEL']['ALPHA'] = 0.25\n",
    "\n",
    "model = RecurrentNeuralNetwork(n_in=1, n_out=1, n_hid=cfg['MODEL']['SIZE'], device=device,\n",
    "                               alpha_time_scale=cfg['MODEL']['ALPHA'], beta_time_scale=cfg['MODEL']['BETA'],\n",
    "                               activation=cfg['MODEL']['ACTIVATION'],\n",
    "                               sigma_neu=cfg['MODEL']['SIGMA_NEU'],\n",
    "                               sigma_syn=cfg['MODEL']['SIGMA_SYN'],\n",
    "                               use_bias=cfg['MODEL']['USE_BIAS'],\n",
    "                               anti_hebbian=cfg['MODEL']['ANTI_HEBB']).to(device)\n",
    "\n",
    "model_path = f'../trained_model/posterior/{model_name}/epoch_1000.pth'\n",
    "model.load_state_dict(torch.load(model_path, map_location=device))\n",
    "model.eval()"
   ]
  },
  {
   "cell_type": "code",
   "execution_count": 42,
   "metadata": {},
   "outputs": [],
   "source": [
    "sample_num = 5000\n",
    "\n",
    "outputs_np = np.zeros(sample_num)\n",
    "input_signal = make_signal(sample_num, time_length=30, signal_length=30, mu=0, sigma=0.2)\n",
    "input_signal_split = np.split(input_signal, sample_num // cfg['TRAIN']['BATCHSIZE'])"
   ]
  },
  {
   "cell_type": "code",
   "execution_count": 43,
   "metadata": {},
   "outputs": [],
   "source": [
    "neural_dynamics = np.zeros((sample_num, 31, model.n_hid))                                                                        \n",
    "for i in range(sample_num // cfg['TRAIN']['BATCHSIZE']):                                                    \n",
    "    hidden_np = np.random.normal(0, 0.5, size=(cfg['TRAIN']['BATCHSIZE'], cfg['MODEL']['SIZE']))\n",
    "    hidden = torch.from_numpy(hidden_np).float()                               \n",
    "    hidden = hidden.to(device)                                                                             \n",
    "    inputs = torch.from_numpy(input_signal_split[i]).float()                                               \n",
    "    inputs = inputs.to(device)                                                                             \n",
    "    hidden_list, outputs, _ = model(inputs, hidden)                                                     \n",
    "    hidden_list_np = hidden_list.cpu().detach().numpy()                          \n",
    "    outputs_np[i * cfg['TRAIN']['BATCHSIZE']: (i + 1) * cfg['TRAIN']['BATCHSIZE']] = outputs.detach().numpy()[:, -1, 0]\n",
    "    neural_dynamics[i * cfg['TRAIN']['BATCHSIZE']: (i + 1) * cfg['TRAIN']['BATCHSIZE']] = hidden_list_np   "
   ]
  },
  {
   "cell_type": "code",
   "execution_count": 46,
   "metadata": {},
   "outputs": [
    {
     "data": {
      "image/png": "[encoded data removed]",
      "text/plain": [
       "<Figure size 432x288 with 1 Axes>"
      ]
     },
     "metadata": {},
     "output_type": "display_data"
    }
   ],
   "source": [
    "plt.hist(outputs_np, bins=100)\n",
    "plt.xlim([-0.5, 0.5])\n",
    "plt.title(r'$\\mu_{prior}=0.3, \\sigma_{prior}=0.7, \\mu=0, \\sigma=0.2$', fontsize=16)\n",
    "plt.savefig('figures/model_8_1_mu_0_sigma_0.2.eps', dpi=200)\n",
    "plt.savefig('figures/model_8_1_mu_0_sigma_0.2.png', dpi=200)"
   ]
  },
  {
   "cell_type": "code",
   "execution_count": 45,
   "metadata": {},
   "outputs": [],
   "source": [
    "import os\n",
    "os.makedirs('figures', exist_ok=True)"
   ]
  },
  {
   "cell_type": "code",
   "execution_count": 47,
   "metadata": {},
   "outputs": [],
   "source": [
    "sample_num = 5000\n",
    "\n",
    "outputs_np = np.zeros(sample_num)\n",
    "input_signal = make_signal(sample_num, time_length=30, signal_length=30, mu=0, sigma=1.0)\n",
    "input_signal_split = np.split(input_signal, sample_num // cfg['TRAIN']['BATCHSIZE'])\n",
    "\n",
    "neural_dynamics = np.zeros((sample_num, 31, model.n_hid))                                                                        \n",
    "for i in range(sample_num // cfg['TRAIN']['BATCHSIZE']):                                                    \n",
    "    hidden_np = np.random.normal(0, 0.5, size=(cfg['TRAIN']['BATCHSIZE'], cfg['MODEL']['SIZE']))\n",
    "    hidden = torch.from_numpy(hidden_np).float()                               \n",
    "    hidden = hidden.to(device)                                                                             \n",
    "    inputs = torch.from_numpy(input_signal_split[i]).float()                                               \n",
    "    inputs = inputs.to(device)                                                                             \n",
    "    hidden_list, outputs, _ = model(inputs, hidden)                                                     \n",
    "    hidden_list_np = hidden_list.cpu().detach().numpy()                          \n",
    "    outputs_np[i * cfg['TRAIN']['BATCHSIZE']: (i + 1) * cfg['TRAIN']['BATCHSIZE']] = outputs.detach().numpy()[:, -1, 0]\n",
    "    neural_dynamics[i * cfg['TRAIN']['BATCHSIZE']: (i + 1) * cfg['TRAIN']['BATCHSIZE']] = hidden_list_np   \n",
    "    \n"
   ]
  },
  {
   "cell_type": "code",
   "execution_count": 48,
   "metadata": {},
   "outputs": [
    {
     "data": {
      "image/png": "[encoded data removed]",
      "text/plain": [
       "<Figure size 432x288 with 1 Axes>"
      ]
     },
     "metadata": {},
     "output_type": "display_data"
    }
   ],
   "source": [
    "plt.hist(outputs_np, bins=100)\n",
    "plt.xlim([-0.5, 0.5])\n",
    "plt.title(r'$\\mu_{prior}=0.3, \\sigma_{prior}=0.7, \\mu=0, \\sigma=1.0$', fontsize=16)\n",
    "plt.savefig('figures/model_8_1_mu_0_sigma_1.0.eps', dpi=200)\n",
    "plt.savefig('figures/model_8_1_mu_0_sigma_1.0.png', dpi=200)"
   ]
  },
  {
   "cell_type": "code",
   "execution_count": 41,
   "metadata": {},
   "outputs": [
    {
     "name": "stdout",
     "output_type": "stream",
     "text": [
      "mu_posterior: 0.023, sigma_posterior: 0.192\n"
     ]
    },
    {
     "data": {
      "text/plain": [
       "(0.0, 2.5745275673373222)"
      ]
     },
     "execution_count": 41,
     "metadata": {},
     "output_type": "execute_result"
    },
    {
     "data": {
      "image/png": "[encoded data removed]",
      "text/plain": [
       "<Figure size 432x288 with 1 Axes>"
      ]
     },
     "metadata": {},
     "output_type": "display_data"
    }
   ],
   "source": [
    "signal_mu = 0\n",
    "signal_sigma = 0.2\n",
    "mu_prior = cfg['MODEL']['MU_PRIOR']\n",
    "sigma_prior = cfg['MODEL']['SIGMA_PRIOR']\n",
    "\n",
    "mu_posterior = ((signal_sigma ** 2) * mu_prior +\n",
    "                        (sigma_prior ** 2) * signal_mu) / (sigma_prior ** 2 + signal_sigma ** 2)\n",
    "sigma_posterior = np.sqrt((signal_sigma ** 2)*(sigma_prior ** 2) / (sigma_prior ** 2 + signal_sigma ** 2) )\n",
    "print(f'mu_posterior: {mu_posterior:.3f}, sigma_posterior: {sigma_posterior:.3f}')\n",
    "\n",
    "def gauss(x, mu = 0, sigma = 1):\n",
    "    return  np.exp(-((x - mu)**2) / (2*(sigma**2))) / (sigma*np.sqrt(2*np.pi))\n",
    "\n",
    "x = np.arange(-1, 1, 0.001)\n",
    "\n",
    "# グラフに描く関数\n",
    "f1 = gauss(x, mu=mu_posterior, sigma=sigma_posterior)\n",
    "# f1 = gauss(x, mu=mu_posterior, sigma=0.035)\n",
    "\n",
    "plt.plot(x, f1)\n",
    "plt.ylim([0, np.max(f1)+0.5])"
   ]
  },
  {
   "cell_type": "code",
   "execution_count": 124,
   "metadata": {},
   "outputs": [],
   "source": []
  },
  {
   "cell_type": "code",
   "execution_count": 118,
   "metadata": {},
   "outputs": [
    {
     "data": {
      "text/plain": [
       "[<matplotlib.lines.Line2D at 0x7f83f03e0cf8>]"
      ]
     },
     "execution_count": 118,
     "metadata": {},
     "output_type": "execute_result"
    },
    {
     "data": {
      "image/png": "[encoded data removed]",
      "text/plain": [
       "<Figure size 432x288 with 1 Axes>"
      ]
     },
     "metadata": {},
     "output_type": "display_data"
    }
   ],
   "source": []
  },
  {
   "cell_type": "code",
   "execution_count": 66,
   "metadata": {},
   "outputs": [],
   "source": [
    "sample_num = 3000\n",
    "\n",
    "outputs_np = np.zeros(sample_num)\n",
    "input_signal = make_signal(sample_num, time_length=30, signal_length=25, mu=-1, sigma=0.2)\n",
    "input_signal_split = np.split(input_signal, sample_num // cfg['TRAIN']['BATCHSIZE'])"
   ]
  },
  {
   "cell_type": "code",
   "execution_count": 67,
   "metadata": {},
   "outputs": [],
   "source": [
    "neural_dynamics = np.zeros((sample_num, 31, model.n_hid))                                                                        \n",
    "for i in range(sample_num // cfg['TRAIN']['BATCHSIZE']):                                                    \n",
    "    hidden_np = np.random.normal(0, 0.5, size=(cfg['TRAIN']['BATCHSIZE'], cfg['MODEL']['SIZE']))\n",
    "    hidden = torch.from_numpy(hidden_np).float()                               \n",
    "    hidden = hidden.to(device)                                                                             \n",
    "    inputs = torch.from_numpy(input_signal_split[i]).float()                                               \n",
    "    inputs = inputs.to(device)                                                                             \n",
    "    hidden_list, outputs, _ = model(inputs, hidden)                                                     \n",
    "    hidden_list_np = hidden_list.cpu().detach().numpy()                          \n",
    "    outputs_np[i * cfg['TRAIN']['BATCHSIZE']: (i + 1) * cfg['TRAIN']['BATCHSIZE']] = outputs.detach().numpy()[:, -1, 0]\n",
    "    neural_dynamics[i * cfg['TRAIN']['BATCHSIZE']: (i + 1) * cfg['TRAIN']['BATCHSIZE']] = hidden_list_np   "
   ]
  },
  {
   "cell_type": "code",
   "execution_count": 68,
   "metadata": {},
   "outputs": [
    {
     "data": {
      "image/png": "[encoded data removed]",
      "text/plain": [
       "<Figure size 432x288 with 1 Axes>"
      ]
     },
     "metadata": {},
     "output_type": "display_data"
    }
   ],
   "source": [
    "plt.hist(outputs_np, bins=50)\n",
    "plt.show()"
   ]
  },
  {
   "cell_type": "code",
   "execution_count": 70,
   "metadata": {},
   "outputs": [
    {
     "name": "stdout",
     "output_type": "stream",
     "text": [
      "0.146484375\n"
     ]
    }
   ],
   "source": [
    "activated = []\n",
    "for i in range(sample_num):\n",
    "    tmp = neural_dynamics[0, -1, :]\n",
    "    activated.append(len(tmp[tmp>0.05]))\n",
    "print(np.mean(activated) / cfg['MODEL']['SIZE'])"
   ]
  },
  {
   "cell_type": "code",
   "execution_count": 76,
   "metadata": {},
   "outputs": [
    {
     "name": "stdout",
     "output_type": "stream",
     "text": [
      "mu: -1.0, sigma: 0.1, sparsness: 0.14453\n",
      "mu: -1.0, sigma: 0.2, sparsness: 0.14648\n",
      "mu: -1.0, sigma: 0.3, sparsness: 0.14453\n",
      "mu: -1.0, sigma: 0.4, sparsness: 0.09375\n",
      "mu: -1.0, sigma: 0.5, sparsness: 0.08203\n",
      "mu: -0.5, sigma: 0.1, sparsness: 0.08008\n",
      "mu: -0.5, sigma: 0.2, sparsness: 0.06250\n",
      "mu: -0.5, sigma: 0.3, sparsness: 0.04688\n",
      "mu: -0.5, sigma: 0.4, sparsness: 0.06836\n",
      "mu: -0.5, sigma: 0.5, sparsness: 0.08594\n",
      "mu: 0.0, sigma: 0.1, sparsness: 0.07812\n",
      "mu: 0.0, sigma: 0.2, sparsness: 0.07422\n",
      "mu: 0.0, sigma: 0.3, sparsness: 0.08594\n",
      "mu: 0.0, sigma: 0.4, sparsness: 0.07617\n",
      "mu: 0.0, sigma: 0.5, sparsness: 0.08203\n",
      "mu: 0.5, sigma: 0.1, sparsness: 0.13867\n",
      "mu: 0.5, sigma: 0.2, sparsness: 0.13086\n",
      "mu: 0.5, sigma: 0.3, sparsness: 0.11328\n",
      "mu: 0.5, sigma: 0.4, sparsness: 0.11328\n",
      "mu: 0.5, sigma: 0.5, sparsness: 0.14258\n",
      "mu: 1.0, sigma: 0.1, sparsness: 0.18359\n",
      "mu: 1.0, sigma: 0.2, sparsness: 0.16602\n",
      "mu: 1.0, sigma: 0.3, sparsness: 0.15625\n",
      "mu: 1.0, sigma: 0.4, sparsness: 0.14844\n",
      "mu: 1.0, sigma: 0.5, sparsness: 0.14453\n"
     ]
    }
   ],
   "source": [
    "mu_list = [-1, -0.5, 0, 0.5, 1]\n",
    "sigma_list = [0.1, 0.2, 0.3, 0.4, 0.5]\n",
    "sample_num = 3000\n",
    "for mu in mu_list:\n",
    "    for sigma in sigma_list:\n",
    "        outputs_np = np.zeros(sample_num)\n",
    "        input_signal = make_signal(sample_num, time_length=30, signal_length=25, mu=mu, sigma=sigma)\n",
    "        input_signal_split = np.split(input_signal, sample_num // cfg['TRAIN']['BATCHSIZE'])\n",
    "        \n",
    "        neural_dynamics = np.zeros((sample_num, 31, model.n_hid))                                                                        \n",
    "        for i in range(sample_num // cfg['TRAIN']['BATCHSIZE']):                                                    \n",
    "            hidden_np = np.random.normal(0, 0.5, size=(cfg['TRAIN']['BATCHSIZE'], cfg['MODEL']['SIZE']))\n",
    "            hidden = torch.from_numpy(hidden_np).float()                               \n",
    "            hidden = hidden.to(device)                                                                             \n",
    "            inputs = torch.from_numpy(input_signal_split[i]).float()                                               \n",
    "            inputs = inputs.to(device)                                                                             \n",
    "            hidden_list, outputs, _ = model(inputs, hidden)                                                     \n",
    "            hidden_list_np = hidden_list.cpu().detach().numpy()                          \n",
    "            outputs_np[i * cfg['TRAIN']['BATCHSIZE']: (i + 1) * cfg['TRAIN']['BATCHSIZE']] = outputs.detach().numpy()[:, -1, 0]\n",
    "            neural_dynamics[i * cfg['TRAIN']['BATCHSIZE']: (i + 1) * cfg['TRAIN']['BATCHSIZE']] = hidden_list_np   \n",
    "            \n",
    "        activated = []\n",
    "        for i in range(sample_num):\n",
    "            tmp = neural_dynamics[0, -1, :]\n",
    "            activated.append(len(tmp[tmp>0.05]))\n",
    "        print(f'mu: {mu:.1f}, sigma: {sigma:.1f}, sparsness: {np.mean(activated) / cfg[\"MODEL\"][\"SIZE\"]:.5f}')"
   ]
  },
  {
   "cell_type": "code",
   "execution_count": null,
   "metadata": {},
   "outputs": [],
   "source": []
  }
 ],
 "metadata": {
  "kernelspec": {
   "display_name": "Python 3",
   "language": "python",
   "name": "python3"
  },
  "language_info": {
   "codemirror_mode": {
    "name": "ipython",
    "version": 3
   },
   "file_extension": ".py",
   "mimetype": "text/x-python",
   "name": "python",
   "nbconvert_exporter": "python",
   "pygments_lexer": "ipython3",
   "version": "3.6.4"
  }
 },
 "nbformat": 4,
 "nbformat_minor": 2
}
