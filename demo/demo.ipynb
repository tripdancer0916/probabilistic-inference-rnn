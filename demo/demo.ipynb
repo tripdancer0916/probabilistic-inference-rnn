{
 "cells": [
  {
   "cell_type": "code",
   "execution_count": 22,
   "metadata": {},
   "outputs": [],
   "source": [
    "import os\n",
    "\n",
    "import matplotlib.pyplot as plt\n",
    "import numpy as np\n",
    "import scipy.stats as stats\n",
    "import torch\n",
    "import torch.nn as nn\n",
    "import yaml\n",
    "from mpl_toolkits.mplot3d import Axes3D\n",
    "\n",
    "\n",
    "%matplotlib inline"
   ]
  },
  {
   "cell_type": "code",
   "execution_count": 11,
   "metadata": {},
   "outputs": [],
   "source": [
    "class RNN(nn.Module):\n",
    "    def __init__(\n",
    "            self, n_in, n_out, n_hid, device,\n",
    "            alpha_time_scale=0.25, jij_std=0.045,\n",
    "            activation='tanh',\n",
    "            sigma_neu=0.05,\n",
    "            use_bias=True,\n",
    "            ffnn=False,\n",
    "    ):\n",
    "        super(RNN, self).__init__()\n",
    "        self.n_in = n_in\n",
    "        self.n_hid = n_hid\n",
    "        self.n_out = n_out\n",
    "        self.w_in = nn.Linear(n_in, n_hid, bias=use_bias)\n",
    "        self.w_hh = nn.Linear(n_hid, n_hid, bias=use_bias)\n",
    "        nn.init.uniform_(self.w_hh.weight, -jij_std, jij_std)\n",
    "        self.w_out = nn.Linear(n_hid, n_out, bias=use_bias)\n",
    "\n",
    "        self.activation = activation\n",
    "        self.sigma_neu = sigma_neu\n",
    "\n",
    "        self.device = device\n",
    "        self.ffnn = ffnn\n",
    "\n",
    "        self.alpha = torch.ones(self.n_hid) * alpha_time_scale\n",
    "        self.alpha = self.alpha.to(self.device)\n",
    "\n",
    "    def change_alpha(self, new_alpha_time_scale):\n",
    "        self.alpha = torch.ones(self.n_hid) * new_alpha_time_scale\n",
    "        self.alpha = self.alpha.to(self.device)\n",
    "\n",
    "    def make_neural_noise(self, hidden, alpha):\n",
    "        return torch.randn_like(hidden).to(self.device) * self.sigma_neu * torch.sqrt(alpha)\n",
    "\n",
    "    def forward(self, input_signal, hidden, length):\n",
    "        num_batch = input_signal.size(0)\n",
    "        hidden_list = torch.zeros(length, num_batch, self.n_hid).type_as(input_signal.data)\n",
    "        output_list = torch.zeros(length, num_batch, self.n_out).type_as(input_signal.data)\n",
    "\n",
    "        input_signal = input_signal.permute(1, 0, 2)\n",
    "\n",
    "        for t in range(length):\n",
    "            if self.activation == 'tanh':\n",
    "                if self.ffnn:\n",
    "                    tmp_hidden = self.w_in(input_signal[t])\n",
    "                    hidden = torch.tanh(tmp_hidden)\n",
    "                else:\n",
    "                    activated = torch.tanh(hidden)\n",
    "                    tmp_hidden = self.w_in(input_signal[t]) + self.w_hh(activated)\n",
    "                    neural_noise = self.make_neural_noise(hidden, self.alpha)\n",
    "                    hidden = (1 - self.alpha) * hidden + self.alpha * tmp_hidden + neural_noise\n",
    "            elif self.activation == 'relu':\n",
    "                if self.ffnn:\n",
    "                    tmp_hidden = self.w_in(input_signal[t])\n",
    "                    hidden = torch.nn.functional.relu(tmp_hidden)\n",
    "                else:\n",
    "                    tmp_hidden = self.w_in(input_signal[t]) + self.w_hh(hidden)\n",
    "                    tmp_hidden = torch.nn.functional.relu(tmp_hidden)\n",
    "                    neural_noise = self.make_neural_noise(hidden, self.alpha)\n",
    "                    hidden = (1 - self.alpha) * hidden + self.alpha * tmp_hidden + neural_noise\n",
    "            else:\n",
    "                raise ValueError\n",
    "\n",
    "            output = self.w_out(hidden)\n",
    "            output = torch.clamp(output, min=-20, max=20)\n",
    "            hidden_list[t] = hidden\n",
    "            output_list[t] = output\n",
    "\n",
    "        hidden_list = hidden_list.permute(1, 0, 2)\n",
    "        output_list = output_list.permute(1, 0, 2)\n",
    "\n",
    "        return hidden_list, output_list, hidden"
   ]
  },
  {
   "cell_type": "code",
   "execution_count": 12,
   "metadata": {},
   "outputs": [],
   "source": [
    "def make_signal_cc_task(num_sample, time_length, mu_min, mu_max, uncertainty,fix_input=False):\n",
    "    input_signals = np.zeros([num_sample, time_length, 200])\n",
    "    phi = np.linspace(-20, 20, 100)\n",
    "    sigma_sq = 5\n",
    "    mu_post_list = []\n",
    "    sigma_post_list = []\n",
    "    for i in range(num_sample):\n",
    "        signal1_input = np.zeros([time_length, 100])\n",
    "        signal2_input = np.zeros([time_length, 100])\n",
    "        mu = np.random.rand() * (mu_max - mu_min) + mu_min\n",
    "        g_1, g_2 = np.random.rand(2) + 0.25\n",
    "        signal1_base = g_1 * np.exp(-(mu - phi) ** 2 / (2.0 * sigma_sq))\n",
    "        signal2_base = g_2 * np.exp(-(mu - phi) ** 2 / (2.0 * sigma_sq))\n",
    "        for t in range(time_length):\n",
    "            signal1_input[t] = np.random.poisson(signal1_base)\n",
    "        for t in range(time_length):\n",
    "            signal2_input[t] = np.random.poisson(signal2_base)\n",
    "        if fix_input:\n",
    "            tmp1 = np.random.poisson(signal1_base)\n",
    "            tmp2 = np.random.poisson(signal2_base)\n",
    "            for t in range(time_length):\n",
    "                signal1_input[t] = tmp1\n",
    "                signal2_input[t] = tmp2\n",
    "            \n",
    "        # target\n",
    "        sigma_1 = np.sqrt(1 / g_1) * uncertainty\n",
    "        sigma_2 = np.sqrt(1 / g_2) * uncertainty\n",
    "        mu_posterior = ((sigma_1 ** 2) * mu +\n",
    "                        (sigma_2 ** 2) * mu) / (sigma_1 ** 2 + sigma_2 ** 2)\n",
    "        g_3 = g_1 + g_2\n",
    "        sigma_posterior = np.sqrt(1 / g_3) * uncertainty\n",
    "        \n",
    "        input_signals[i] = np.concatenate((signal1_input, signal2_input), axis=1)\n",
    "        \n",
    "        mu_post_list.append(mu_posterior)\n",
    "        sigma_post_list.append(sigma_posterior)\n",
    "\n",
    "    return input_signals, mu_post_list, sigma_post_list"
   ]
  },
  {
   "cell_type": "code",
   "execution_count": 13,
   "metadata": {},
   "outputs": [],
   "source": [
    "config_path = '../probabilistic_inference/cfg/sample2.yml'\n",
    "with open(config_path, 'r') as f:\n",
    "    cfg = yaml.safe_load(f)"
   ]
  },
  {
   "cell_type": "code",
   "execution_count": 17,
   "metadata": {},
   "outputs": [
    {
     "name": "stdout",
     "output_type": "stream",
     "text": [
      "model_name:  sample2\n"
     ]
    },
    {
     "data": {
      "text/plain": [
       "RNN(\n",
       "  (w_in): Linear(in_features=200, out_features=300, bias=True)\n",
       "  (w_hh): Linear(in_features=300, out_features=300, bias=True)\n",
       "  (w_out): Linear(in_features=300, out_features=1, bias=True)\n",
       ")"
      ]
     },
     "execution_count": 17,
     "metadata": {},
     "output_type": "execute_result"
    }
   ],
   "source": [
    "model_name = os.path.splitext(os.path.basename(config_path))[0]\n",
    "print('model_name: ', model_name)\n",
    "\n",
    "torch.manual_seed(1)\n",
    "device = torch.device('cpu')\n",
    "\n",
    "model = RNN(\n",
    "    n_in=200, n_out=1, n_hid=cfg['MODEL']['SIZE'], device=device,\n",
    "    alpha_time_scale=cfg['MODEL']['ALPHA'], \n",
    "    activation=cfg['MODEL']['ACTIVATION'],\n",
    "    sigma_neu=cfg['MODEL']['SIGMA_NEU'],\n",
    "    use_bias=cfg['MODEL']['USE_BIAS'],\n",
    "    ffnn=False,\n",
    ").to(device)\n",
    "\n",
    "model_path = f'../trained_model/cue_combination_sampling/{model_name}/epoch_100.pth'\n",
    "model.load_state_dict(torch.load(model_path, map_location=device))\n",
    "model.eval()"
   ]
  },
  {
   "cell_type": "code",
   "execution_count": 36,
   "metadata": {},
   "outputs": [],
   "source": [
    "sample_num = 100\n",
    "\n",
    "outputs_np = np.zeros(sample_num)\n",
    "input_signal, mu_post_list, sigma_post_list = make_signal_cc_task(\n",
    "    sample_num, \n",
    "    time_length=cfg['DATALOADER']['TIME_LENGTH'], \n",
    "    mu_min=-15,\n",
    "    mu_max=15,\n",
    "    uncertainty=cfg['DATALOADER']['UNCERTAINTY'],\n",
    "    fix_input=False,\n",
    ")"
   ]
  },
  {
   "cell_type": "code",
   "execution_count": 37,
   "metadata": {},
   "outputs": [],
   "source": [
    "hidden_np = np.zeros((sample_num, cfg['MODEL']['SIZE']))\n",
    "hidden = torch.from_numpy(hidden_np).float()                               \n",
    "hidden = hidden.to(device)                                                                             \n",
    "inputs = torch.from_numpy(input_signal).float()                                               \n",
    "inputs = inputs.to(device)                                                                             \n",
    "hidden_list, outputs, _ = model(inputs, hidden, cfg['DATALOADER']['TIME_LENGTH'])                                                     \n",
    "neural_dynamics = hidden_list.cpu().detach().numpy()    "
   ]
  },
  {
   "cell_type": "code",
   "execution_count": 38,
   "metadata": {},
   "outputs": [
    {
     "data": {
      "text/plain": [
       "Text(0, 0.5, 'Freq')"
      ]
     },
     "execution_count": 38,
     "metadata": {},
     "output_type": "execute_result"
    },
    {
     "data": {
      "image/png": "[encoded data removed]",
      "text/plain": [
       "<Figure size 432x288 with 1 Axes>"
      ]
     },
     "metadata": {},
     "output_type": "display_data"
    }
   ],
   "source": [
    "target_sample = np.random.normal(mu_post_list[8], sigma_post_list[8], 100)\n",
    "\n",
    "fig = plt.figure(constrained_layout=True)\n",
    "plt.bar(\n",
    "    np.linspace(-15, 1, 200),\n",
    "    np.histogram(outputs.detach().numpy()[8, :, 0], bins=200, range=(-15, -5))[0] / 80,\n",
    "    color='royalblue',\n",
    "    label='output distribution',\n",
    "    linewidth=2,\n",
    "    width=0.1,\n",
    ")\n",
    "\n",
    "x = np.linspace(-15, 1, 100)\n",
    "y = stats.norm.pdf(np.linspace(-15, -5, 100), scale=sigma_post_list[8], loc=mu_post_list[8])\n",
    "plt.plot(\n",
    "    x,\n",
    "    y / np.sum(y),\n",
    "    color='red',\n",
    "    label='target distribution',\n",
    "    linewidth=2,\n",
    ")\n",
    "\n",
    "plt.xticks(fontsize=18)\n",
    "plt.yticks(fontsize=18)\n",
    "plt.gca().spines['right'].set_visible(False)\n",
    "plt.gca().spines['top'].set_visible(False)\n",
    "plt.gca().yaxis.set_ticks_position('left')\n",
    "plt.gca().xaxis.set_ticks_position('bottom')\n",
    "\n",
    "plt.legend()\n",
    "\n",
    "plt.ylabel('Freq', fontsize=28)\n",
    "\n",
    "plt.show()"
   ]
  },
  {
   "cell_type": "code",
   "execution_count": null,
   "metadata": {},
   "outputs": [],
   "source": []
  }
 ],
 "metadata": {
  "kernelspec": {
   "display_name": "Python 3",
   "language": "python",
   "name": "python3"
  },
  "language_info": {
   "codemirror_mode": {
    "name": "ipython",
    "version": 3
   },
   "file_extension": ".py",
   "mimetype": "text/x-python",
   "name": "python",
   "nbconvert_exporter": "python",
   "pygments_lexer": "ipython3",
   "version": "3.6.4"
  }
 },
 "nbformat": 4,
 "nbformat_minor": 2
}
